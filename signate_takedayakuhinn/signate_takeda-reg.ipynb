{
 "cells": [
  {
   "cell_type": "code",
   "execution_count": 5,
   "metadata": {},
   "outputs": [],
   "source": [
    "import numpy as np\n",
    "import pandas as pd\n",
    "from sklearn.model_selection import train_test_split\n",
    "import csv"
   ]
  },
  {
   "cell_type": "code",
   "execution_count": 149,
   "metadata": {},
   "outputs": [],
   "source": [
    "train_data = pd.read_csv(\"./train.csv\")"
   ]
  },
  {
   "cell_type": "code",
   "execution_count": 3,
   "metadata": {},
   "outputs": [
    {
     "data": {
      "text/html": [
       "<div>\n",
       "<style scoped>\n",
       "    .dataframe tbody tr th:only-of-type {\n",
       "        vertical-align: middle;\n",
       "    }\n",
       "\n",
       "    .dataframe tbody tr th {\n",
       "        vertical-align: top;\n",
       "    }\n",
       "\n",
       "    .dataframe thead th {\n",
       "        text-align: right;\n",
       "    }\n",
       "</style>\n",
       "<table border=\"1\" class=\"dataframe\">\n",
       "  <thead>\n",
       "    <tr style=\"text-align: right;\">\n",
       "      <th></th>\n",
       "      <th>ID</th>\n",
       "      <th>Score</th>\n",
       "      <th>col1</th>\n",
       "      <th>col2</th>\n",
       "      <th>col3</th>\n",
       "      <th>col4</th>\n",
       "      <th>col5</th>\n",
       "      <th>col6</th>\n",
       "      <th>col7</th>\n",
       "      <th>col8</th>\n",
       "      <th>...</th>\n",
       "      <th>col3796</th>\n",
       "      <th>col3797</th>\n",
       "      <th>col3798</th>\n",
       "      <th>col3799</th>\n",
       "      <th>col3800</th>\n",
       "      <th>col3801</th>\n",
       "      <th>col3802</th>\n",
       "      <th>col3803</th>\n",
       "      <th>col3804</th>\n",
       "      <th>col3805</th>\n",
       "    </tr>\n",
       "  </thead>\n",
       "  <tbody>\n",
       "    <tr>\n",
       "      <th>0</th>\n",
       "      <td>5</td>\n",
       "      <td>3.475628</td>\n",
       "      <td>0</td>\n",
       "      <td>4.058</td>\n",
       "      <td>0.824</td>\n",
       "      <td>0</td>\n",
       "      <td>10.267</td>\n",
       "      <td>0.728</td>\n",
       "      <td>4.403</td>\n",
       "      <td>0.050</td>\n",
       "      <td>...</td>\n",
       "      <td>1.067</td>\n",
       "      <td>0</td>\n",
       "      <td>0.0</td>\n",
       "      <td>0.115</td>\n",
       "      <td>30.395</td>\n",
       "      <td>24.541</td>\n",
       "      <td>0</td>\n",
       "      <td>0.415</td>\n",
       "      <td>0.997</td>\n",
       "      <td>0</td>\n",
       "    </tr>\n",
       "    <tr>\n",
       "      <th>1</th>\n",
       "      <td>8</td>\n",
       "      <td>3.601332</td>\n",
       "      <td>0</td>\n",
       "      <td>4.111</td>\n",
       "      <td>0.929</td>\n",
       "      <td>0</td>\n",
       "      <td>8.352</td>\n",
       "      <td>0.907</td>\n",
       "      <td>4.216</td>\n",
       "      <td>0.034</td>\n",
       "      <td>...</td>\n",
       "      <td>0.934</td>\n",
       "      <td>0</td>\n",
       "      <td>0.0</td>\n",
       "      <td>0.227</td>\n",
       "      <td>38.508</td>\n",
       "      <td>35.038</td>\n",
       "      <td>0</td>\n",
       "      <td>3.979</td>\n",
       "      <td>0.997</td>\n",
       "      <td>3</td>\n",
       "    </tr>\n",
       "    <tr>\n",
       "      <th>2</th>\n",
       "      <td>9</td>\n",
       "      <td>1.935003</td>\n",
       "      <td>0</td>\n",
       "      <td>4.139</td>\n",
       "      <td>0.833</td>\n",
       "      <td>66</td>\n",
       "      <td>9.494</td>\n",
       "      <td>0.733</td>\n",
       "      <td>4.069</td>\n",
       "      <td>0.267</td>\n",
       "      <td>...</td>\n",
       "      <td>1.722</td>\n",
       "      <td>0</td>\n",
       "      <td>0.0</td>\n",
       "      <td>0.148</td>\n",
       "      <td>27.932</td>\n",
       "      <td>19.518</td>\n",
       "      <td>0</td>\n",
       "      <td>0.849</td>\n",
       "      <td>0.999</td>\n",
       "      <td>0</td>\n",
       "    </tr>\n",
       "    <tr>\n",
       "      <th>3</th>\n",
       "      <td>12</td>\n",
       "      <td>3.283663</td>\n",
       "      <td>0</td>\n",
       "      <td>4.016</td>\n",
       "      <td>0.880</td>\n",
       "      <td>0</td>\n",
       "      <td>8.237</td>\n",
       "      <td>0.836</td>\n",
       "      <td>3.956</td>\n",
       "      <td>0.129</td>\n",
       "      <td>...</td>\n",
       "      <td>0.993</td>\n",
       "      <td>0</td>\n",
       "      <td>0.0</td>\n",
       "      <td>0.124</td>\n",
       "      <td>18.993</td>\n",
       "      <td>25.403</td>\n",
       "      <td>0</td>\n",
       "      <td>0.988</td>\n",
       "      <td>0.998</td>\n",
       "      <td>0</td>\n",
       "    </tr>\n",
       "    <tr>\n",
       "      <th>4</th>\n",
       "      <td>14</td>\n",
       "      <td>3.409121</td>\n",
       "      <td>0</td>\n",
       "      <td>4.657</td>\n",
       "      <td>0.522</td>\n",
       "      <td>0</td>\n",
       "      <td>35.882</td>\n",
       "      <td>0.383</td>\n",
       "      <td>4.234</td>\n",
       "      <td>-0.089</td>\n",
       "      <td>...</td>\n",
       "      <td>2.095</td>\n",
       "      <td>0</td>\n",
       "      <td>0.0</td>\n",
       "      <td>0.088</td>\n",
       "      <td>44.225</td>\n",
       "      <td>15.741</td>\n",
       "      <td>0</td>\n",
       "      <td>1.595</td>\n",
       "      <td>0.997</td>\n",
       "      <td>0</td>\n",
       "    </tr>\n",
       "  </tbody>\n",
       "</table>\n",
       "<p>5 rows × 3807 columns</p>\n",
       "</div>"
      ],
      "text/plain": [
       "   ID     Score  col1   col2   col3  col4    col5   col6   col7   col8  ...  \\\n",
       "0   5  3.475628     0  4.058  0.824     0  10.267  0.728  4.403  0.050  ...   \n",
       "1   8  3.601332     0  4.111  0.929     0   8.352  0.907  4.216  0.034  ...   \n",
       "2   9  1.935003     0  4.139  0.833    66   9.494  0.733  4.069  0.267  ...   \n",
       "3  12  3.283663     0  4.016  0.880     0   8.237  0.836  3.956  0.129  ...   \n",
       "4  14  3.409121     0  4.657  0.522     0  35.882  0.383  4.234 -0.089  ...   \n",
       "\n",
       "   col3796  col3797  col3798  col3799  col3800  col3801  col3802  col3803  \\\n",
       "0    1.067        0      0.0    0.115   30.395   24.541        0    0.415   \n",
       "1    0.934        0      0.0    0.227   38.508   35.038        0    3.979   \n",
       "2    1.722        0      0.0    0.148   27.932   19.518        0    0.849   \n",
       "3    0.993        0      0.0    0.124   18.993   25.403        0    0.988   \n",
       "4    2.095        0      0.0    0.088   44.225   15.741        0    1.595   \n",
       "\n",
       "   col3804  col3805  \n",
       "0    0.997        0  \n",
       "1    0.997        3  \n",
       "2    0.999        0  \n",
       "3    0.998        0  \n",
       "4    0.997        0  \n",
       "\n",
       "[5 rows x 3807 columns]"
      ]
     },
     "execution_count": 3,
     "metadata": {},
     "output_type": "execute_result"
    }
   ],
   "source": [
    "train_data.head()"
   ]
  },
  {
   "cell_type": "code",
   "execution_count": 88,
   "metadata": {},
   "outputs": [
    {
     "name": "stdout",
     "output_type": "stream",
     "text": [
      "no null\n"
     ]
    }
   ],
   "source": [
    "null_count = 0\n",
    "for s in train_data.isnull().sum().values:\n",
    "    if s > 0:\n",
    "        null_count += 1\n",
    "if null_count > 0:\n",
    "    print(\"null\")\n",
    "else:\n",
    "    print(\"no null\")"
   ]
  },
  {
   "cell_type": "code",
   "execution_count": 127,
   "metadata": {
    "scrolled": true
   },
   "outputs": [],
   "source": [
    "corr_list = list()\n",
    "delete_list = list()\n",
    "for i in range(3804):\n",
    "    corr = np.corrcoef(y, train_data[\"col\" + str(i+1)].values)[0][1]\n",
    "    \n",
    "    if np.isnan(corr):\n",
    "        delete_list.append(\"col{}\".format(i+1))\n",
    "    else:\n",
    "        corr_list.append(corr)"
   ]
  },
  {
   "cell_type": "code",
   "execution_count": 150,
   "metadata": {},
   "outputs": [],
   "source": [
    "train_data = train_data.drop(delete_list, axis=1)"
   ]
  },
  {
   "cell_type": "code",
   "execution_count": 151,
   "metadata": {},
   "outputs": [
    {
     "data": {
      "text/plain": [
       "(13731, 3753)"
      ]
     },
     "execution_count": 151,
     "metadata": {},
     "output_type": "execute_result"
    }
   ],
   "source": [
    "train_data.shape"
   ]
  },
  {
   "cell_type": "code",
   "execution_count": 152,
   "metadata": {},
   "outputs": [],
   "source": [
    "# 説明変数\n",
    "X = train_data.drop([\"ID\", \"Score\"], axis=1).values.astype(\"int\")\n",
    "# 目的変数\n",
    "y = train_data[\"Score\"].values.astype(\"int\")\n",
    "\n",
    "# 訓練データとテストデータに分割\n",
    "X_train, X_test, y_train, y_test = train_test_split(X, y, test_size=0.6, random_state=5)"
   ]
  },
  {
   "cell_type": "code",
   "execution_count": 154,
   "metadata": {},
   "outputs": [
    {
     "data": {
      "text/plain": [
       "SVC(C=100.0, cache_size=200, class_weight=None, coef0=0.0,\n",
       "    decision_function_shape='ovr', degree=3, gamma=0.01, kernel='rbf',\n",
       "    max_iter=-1, probability=False, random_state=None, shrinking=True,\n",
       "    tol=0.001, verbose=False)"
      ]
     },
     "execution_count": 154,
     "metadata": {},
     "output_type": "execute_result"
    }
   ],
   "source": [
    "from sklearn import svm\n",
    "\n",
    "model = SVC(gamma=0.01, C=100.)\n",
    "model.fit(X_train, y_train)"
   ]
  },
  {
   "cell_type": "code",
   "execution_count": 155,
   "metadata": {},
   "outputs": [
    {
     "name": "stdout",
     "output_type": "stream",
     "text": [
      "train_data : 0.0\n",
      "test_data  : 1.0784075737346766\n"
     ]
    },
    {
     "data": {
      "text/plain": [
       "1.0"
      ]
     },
     "execution_count": 155,
     "metadata": {},
     "output_type": "execute_result"
    }
   ],
   "source": [
    "# 平均二乗誤差\n",
    "from sklearn.metrics import mean_squared_error\n",
    "#  精度\n",
    "from sklearn.metrics import accuracy_score\n",
    "\n",
    "\n",
    "# 目的変数を予測\n",
    "y_train_predict = model.predict(X_train)\n",
    "y_test_predict = model.predict(X_test)\n",
    "\n",
    "# train の誤差が test よりも圧倒的に小さい場合は過学習\n",
    "print(\"train_data : {}\".format(mean_squared_error(y_train, y_train_predict)))\n",
    "print(\"test_data  : {}\".format(mean_squared_error(y_test, y_test_predict)))\n",
    "\n",
    "accuracy_score(y_train_predict, y_train)"
   ]
  },
  {
   "cell_type": "code",
   "execution_count": 136,
   "metadata": {},
   "outputs": [],
   "source": [
    "test_data = pd.read_csv(\"test.csv\")\n",
    "test_id = test_data[\"ID\"].values\n",
    "test_data = test_data.drop(\"ID\", axis=1)\n",
    "test_data = test_data.drop(delete_list, axis=1)\n",
    "\n",
    "test_datas = test_data.values.astype(\"int\")"
   ]
  },
  {
   "cell_type": "code",
   "execution_count": 137,
   "metadata": {},
   "outputs": [],
   "source": [
    "predict_data = model.predict(test_datas)"
   ]
  },
  {
   "cell_type": "code",
   "execution_count": 138,
   "metadata": {},
   "outputs": [],
   "source": [
    "predict_csv = list()\n",
    "for index, id in enumerate(test_id):\n",
    "    tmp_list = list()\n",
    "    tmp_list.append(id)\n",
    "    tmp_list.append(predict_data[index])\n",
    "    predict_csv.append(tmp_list)\n",
    "\n",
    "# csv 出力\n",
    "with open(\"predict.csv\", \"w\", encoding=\"Shift_jis\") as f:\n",
    "    writer = csv.writer(f, lineterminator=\"\\n\")\n",
    "    writer.writerows(predict_csv)"
   ]
  },
  {
   "cell_type": "code",
   "execution_count": null,
   "metadata": {},
   "outputs": [],
   "source": []
  },
  {
   "cell_type": "code",
   "execution_count": null,
   "metadata": {},
   "outputs": [],
   "source": []
  }
 ],
 "metadata": {
  "kernelspec": {
   "display_name": "Python 3",
   "language": "python",
   "name": "python3"
  },
  "language_info": {
   "codemirror_mode": {
    "name": "ipython",
    "version": 3
   },
   "file_extension": ".py",
   "mimetype": "text/x-python",
   "name": "python",
   "nbconvert_exporter": "python",
   "pygments_lexer": "ipython3",
   "version": "3.7.3"
  }
 },
 "nbformat": 4,
 "nbformat_minor": 2
}
